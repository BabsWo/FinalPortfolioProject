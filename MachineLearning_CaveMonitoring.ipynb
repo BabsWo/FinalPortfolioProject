{
 "cells": [
  {
   "cell_type": "markdown",
   "metadata": {},
   "source": [
    "# CodeCademy Final Portfolio Project\n",
    "The goal of this project was to use machine learning to evaluate how dripwater d18O is explained by temperature and precipitation d18O. I will use the supervised machine learning technique: multivariate linear regression. I will train and test the machine learning model on a dataset from the literature (Baker et al., 2019; Nature). I will then evaluate the model by using it to predict dripwater d18O from isotope enable climate model data as presented in Tabor et al. (in revision) and compare the predicted dripwater d18O to the predicted dripwater d18O from a forward proxy system model, Karstolution (Treble et al., 2019). \n",
    "\n",
    "Citations are at the end of this notebook. "
   ]
  },
  {
   "cell_type": "code",
   "execution_count": 2,
   "metadata": {},
   "outputs": [],
   "source": [
    "import matplotlib.pyplot as plt\n",
    "import pandas as pd\n",
    "import numpy as np\n",
    "\n",
    "from scipy.stats import pearsonr\n",
    "from sklearn.model_selection import train_test_split\n",
    "from sklearn.linear_model import LinearRegression\n",
    "from sklearn.metrics import mean_squared_error"
   ]
  },
  {
   "cell_type": "code",
   "execution_count": 3,
   "metadata": {},
   "outputs": [],
   "source": [
    "monitorDF = pd.read_csv('TestML.csv')"
   ]
  },
  {
   "cell_type": "code",
   "execution_count": 4,
   "metadata": {},
   "outputs": [
    {
     "name": "stdout",
     "output_type": "stream",
     "text": [
      "    MAT  P_PET  d18Op  d18Odw\n",
      "0  18.2   0.45  -4.34   -2.81\n",
      "1  18.2   0.45  -4.34   -2.50\n",
      "2  18.2   0.45  -4.34   -3.45\n",
      "3  18.2   0.45  -4.34   -2.43\n",
      "4  18.2   0.45  -4.34   -1.98\n"
     ]
    }
   ],
   "source": [
    "print(monitorDF.head())"
   ]
  },
  {
   "cell_type": "code",
   "execution_count": 5,
   "metadata": {},
   "outputs": [],
   "source": [
    "x = monitorDF[['MAT', 'P_PET', 'd18Op']]\n",
    "y = monitorDF[['d18Odw']]\n"
   ]
  },
  {
   "cell_type": "code",
   "execution_count": 6,
   "metadata": {},
   "outputs": [],
   "source": [
    "x_train, x_test, y_train, y_test = train_test_split(x, y, train_size = 0.7, test_size = 0.3, random_state=6)"
   ]
  },
  {
   "cell_type": "code",
   "execution_count": 7,
   "metadata": {},
   "outputs": [],
   "source": [
    "lm = LinearRegression()"
   ]
  },
  {
   "cell_type": "code",
   "execution_count": 8,
   "metadata": {},
   "outputs": [],
   "source": [
    "model = lm.fit(x_train, y_train)"
   ]
  },
  {
   "cell_type": "code",
   "execution_count": 9,
   "metadata": {},
   "outputs": [
    {
     "name": "stdout",
     "output_type": "stream",
     "text": [
      "Train score:\n",
      "0.8359053580576565\n",
      "Test score:\n",
      "0.8453057456372484\n"
     ]
    },
    {
     "data": {
      "text/plain": [
       "Text(0.5, 1.0, 'Actual dripwater vs. predicted dripwater')"
      ]
     },
     "execution_count": 9,
     "metadata": {},
     "output_type": "execute_result"
    },
    {
     "data": {
      "image/png": "[encoded data removed]",
      "text/plain": [
       "<Figure size 432x288 with 1 Axes>"
      ]
     },
     "metadata": {
      "needs_background": "light"
     },
     "output_type": "display_data"
    }
   ],
   "source": [
    "y_predict= lm.predict(x_test)\n",
    "\n",
    "print(\"Train score:\")\n",
    "print(lm.score(x_train, y_train))\n",
    "\n",
    "print(\"Test score:\")\n",
    "print(lm.score(x_test, y_test))\n",
    "\n",
    "plt.scatter(y_test, y_predict)\n",
    "\n",
    "\n",
    "plt.xlabel(\"actual dripwater\")\n",
    "plt.ylabel(\"predicted dripwater\")\n",
    "plt.title(\"Actual dripwater vs. predicted dripwater\")\n"
   ]
  },
  {
   "cell_type": "code",
   "execution_count": 10,
   "metadata": {},
   "outputs": [],
   "source": [
    "#now to test on model data\n",
    "LehmanDF = pd.read_csv('Lehman.csv')\n",
    "FS_DF = pd.read_csv('FS.csv')\n",
    "ML_DF = pd.read_csv('ML.csv')\n",
    "COB_DF = pd.read_csv('COB.csv')\n",
    "CWN_DF = pd.read_csv('CWN.csv')\n",
    "Shasta_DF = pd.read_csv('Shasta.csv')"
   ]
  },
  {
   "cell_type": "code",
   "execution_count": 11,
   "metadata": {},
   "outputs": [],
   "source": [
    "#current thinking is not to calculate annual averages because Karstolution will do monthly values.\n"
   ]
  },
  {
   "cell_type": "code",
   "execution_count": 12,
   "metadata": {},
   "outputs": [],
   "source": [
    "LehmanDF['P_PET'] = LehmanDF['Precip']/LehmanDF['Evap']\n",
    "LehmanDF['MAT'] = LehmanDF['TS'] -273.15\n",
    "FS_DF['P_PET'] = FS_DF['Precip']/FS_DF['Evap']\n",
    "FS_DF['MAT'] =  FS_DF['TS'] -273.15\n",
    "ML_DF['P_PET'] = ML_DF['Precip']/ML_DF['Evap']\n",
    "ML_DF['MAT'] = ML_DF['TS'] -273.15\n",
    "COB_DF['P_PET'] = COB_DF['Precip']/COB_DF['Evap']\n",
    "COB_DF['MAT'] = COB_DF['TS'] -273.15\n",
    "CWN_DF['P_PET'] = CWN_DF['Precip']/CWN_DF['Evap']\n",
    "CWN_DF['MAT'] = CWN_DF['TS'] -273.15\n",
    "Shasta_DF['P_PET'] = Shasta_DF['Precip']/Shasta_DF['Evap']\n",
    "Shasta_DF['MAT'] = Shasta_DF['TS'] -273.15\n"
   ]
  },
  {
   "cell_type": "code",
   "execution_count": 13,
   "metadata": {},
   "outputs": [],
   "source": [
    "Lehman = LehmanDF[['MAT', 'P_PET', 'd18O']]\n",
    "FS = FS_DF[['MAT', 'P_PET', 'd18O']]\n",
    "ML = ML_DF[['MAT', 'P_PET', 'd18O']]\n",
    "COB = COB_DF[['MAT', 'P_PET', 'd18O']]\n",
    "CWN = CWN_DF[['MAT', 'P_PET', 'd18O']]\n",
    "Shasta = Shasta_DF[['MAT', 'P_PET', 'd18O']]"
   ]
  },
  {
   "cell_type": "code",
   "execution_count": 14,
   "metadata": {},
   "outputs": [
    {
     "name": "stdout",
     "output_type": "stream",
     "text": [
      "         MAT     P_PET      d18Op\n",
      "0  -1.348853  2.267838 -15.753865\n",
      "1   1.187006  1.302662 -15.802324\n",
      "2   6.111566  1.309865 -14.062405\n",
      "3   8.135828  0.997939 -12.133062\n",
      "4  13.653101  0.811143 -13.121843\n"
     ]
    }
   ],
   "source": [
    "Lehman = Lehman.rename(columns = {'d18O': 'd18Op'})\n",
    "FS = FS.rename(columns = {'d18O': 'd18Op'})\n",
    "ML = ML.rename(columns = {'d18O': 'd18Op'})\n",
    "COB = COB.rename(columns = {'d18O': 'd18Op'})\n",
    "CWN = CWN.rename(columns = {'d18O': 'd18Op'})\n",
    "Shasta = Shasta.rename(columns = {'d18O': 'd18Op'})\n",
    "print(Lehman.head())\n",
    "\n"
   ]
  },
  {
   "cell_type": "code",
   "execution_count": 15,
   "metadata": {},
   "outputs": [],
   "source": [
    "#need to average this to annual values.\n",
    "n = 12\n",
    "\n",
    "columns = list(Lehman)\n",
    "newLehman = pd.DataFrame({'counts': range(45)})\n",
    "newFS = pd.DataFrame({'counts': range(45)})\n",
    "newML = pd.DataFrame({'counts': range(45)})\n",
    "newCOB = pd.DataFrame({'counts': range(45)})\n",
    "newCWN = pd.DataFrame({'counts': range(45)})\n",
    "newShasta = pd.DataFrame({'counts': range(45)})\n",
    "\n",
    "\n",
    "for i in columns:\n",
    "    arraytest = FS[i].to_numpy()\n",
    "    avgResult = np.average(arraytest.reshape(-1,n), axis=1)\n",
    "    newFS[i] = avgResult.tolist()\n",
    "    \n",
    "for i in columns:\n",
    "    arraytest = ML[i].to_numpy()\n",
    "    avgResult = np.average(arraytest.reshape(-1,n), axis=1)\n",
    "    newML[i] = avgResult.tolist()\n",
    "\n",
    "for i in columns:\n",
    "    arraytest = COB[i].to_numpy()\n",
    "    avgResult = np.average(arraytest.reshape(-1,n), axis=1)\n",
    "    newCOB[i] = avgResult.tolist()\n",
    "\n",
    "for i in columns:\n",
    "    arraytest = CWN[i].to_numpy()\n",
    "    avgResult = np.average(arraytest.reshape(-1,n), axis=1)\n",
    "    newCWN[i] = avgResult.tolist()\n",
    "    \n",
    "for i in columns:\n",
    "    arraytest = Lehman[i].to_numpy()\n",
    "    avgResult = np.average(arraytest.reshape(-1,n), axis=1)\n",
    "    newLehman[i] = avgResult.tolist()\n",
    "    \n",
    "for i in columns:\n",
    "    arraytest = Shasta[i].to_numpy()\n",
    "    avgResult = np.average(arraytest.reshape(-1,n), axis=1)\n",
    "    newShasta[i] = avgResult.tolist()\n",
    "    \n",
    "    \n",
    "newLehman = newLehman[['MAT', 'P_PET', 'd18Op']]\n",
    "newFS = newFS[['MAT', 'P_PET', 'd18Op']]\n",
    "newML = newML[['MAT', 'P_PET', 'd18Op']]\n",
    "newCOB = newCOB[['MAT', 'P_PET', 'd18Op']]\n",
    "newCWN = newCWN[['MAT', 'P_PET', 'd18Op']]\n",
    "newShasta = newShasta[['MAT', 'P_PET', 'd18Op']]"
   ]
  },
  {
   "cell_type": "code",
   "execution_count": 16,
   "metadata": {},
   "outputs": [],
   "source": [
    "predict_lehman = lm.predict(newLehman)\n",
    "predict_FS = lm.predict(newFS)\n",
    "predict_ML = lm.predict(newML)\n",
    "predict_COB = lm.predict(newCOB)\n",
    "predict_CWN = lm.predict(newCWN)\n",
    "predict_Shasta = lm.predict(newShasta)"
   ]
  },
  {
   "cell_type": "code",
   "execution_count": 17,
   "metadata": {},
   "outputs": [
    {
     "name": "stdout",
     "output_type": "stream",
     "text": [
      "   Unnamed: 0   tt  mm        f1        f3  f4        f5        f6  f7  \\\n",
      "0         540  541   1  0.000000  0.120806   0  0.431632  0.033923   0   \n",
      "1         541  542   2  0.442001  0.122417   0  0.430720  0.033855   0   \n",
      "2         542  543   3  0.465881  0.124193   0  0.429817  0.033787   0   \n",
      "3         543  544   4  0.371749  0.125188   0  0.428919  0.033720   0   \n",
      "4         544  545   5  0.214176  0.124906   0  0.428022  0.033652   0   \n",
      "\n",
      "   soilstor  ...  drip_int_stal5  cave_temp  stal1_growth_rate  \\\n",
      "0  1.898548  ...      465.686549   9.228249           0.072678   \n",
      "1  1.768003  ...      466.671740   9.233449           0.072600   \n",
      "2  1.863523  ...      467.652602   9.237227           0.072521   \n",
      "3  1.486997  ...      468.631512   9.242200           0.072443   \n",
      "4  0.856705  ...      469.614105   9.241741           0.072359   \n",
      "\n",
      "   stal2_growth_rate  stal3_growth_rate  stal4_growth_rate  stal5_growth_rate  \\\n",
      "0           0.107465           0.106963           0.039484           0.106546   \n",
      "1           0.107364           0.106955           0.039949           0.106508   \n",
      "2           0.107681           0.107251           0.040460           0.106464   \n",
      "3           0.107953           0.107197           0.040744           0.106426   \n",
      "4           0.107711           0.106963           0.040663           0.106363   \n",
      "\n",
      "   Unnamed: 34  Unnamed: 35  Unnamed: 36  \n",
      "0   -12.811652   -13.451462   -16.029742  \n",
      "1     1.063864     0.317934     0.313397  \n",
      "2          NaN          NaN          NaN  \n",
      "3          NaN          NaN          NaN  \n",
      "4          NaN          NaN          NaN  \n",
      "\n",
      "[5 rows x 37 columns]\n"
     ]
    }
   ],
   "source": [
    "#now to compare the predicted with multiple linear regression with the Karstolution predicted values\n",
    "karst_Lehman = pd.read_csv('Lehman_output_0ka.csv')\n",
    "karst_ML = pd.read_csv('ML_output_0ka.csv')\n",
    "karst_FS = pd.read_csv('FS_output_0ka.csv')\n",
    "karst_COB = pd.read_csv('COB_output_0ka.csv')\n",
    "karst_CWN = pd.read_csv('CWN_output_0ka.csv')\n",
    "karst_Shasta = pd.read_csv('Shasta_output_0ka.csv')\n",
    "\n",
    "print(karst_Lehman.head())"
   ]
  },
  {
   "cell_type": "code",
   "execution_count": 18,
   "metadata": {},
   "outputs": [],
   "source": [
    "arraykarst = karst_Lehman.epx18o.to_numpy()\n",
    "lehmanResult = np.average(arraykarst.reshape(-1,n), axis=1)\n",
    "\n",
    "#compared = pd.DataFrame({'predicted': predict_lehman, 'karst': lehman_epx})\n",
    "#print(compared.head())\n",
    "\n",
    "\n"
   ]
  },
  {
   "cell_type": "code",
   "execution_count": 35,
   "metadata": {},
   "outputs": [
    {
     "name": "stdout",
     "output_type": "stream",
     "text": [
      "The average machine learning predicted dripwater d18O value is -13.898237459810561 with a variance of 6.687234787791355 whereas the Karstolution forward model result average is -16.029741885333333 with a variance of 0.09635375693283232.\n"
     ]
    },
    {
     "data": {
      "image/png": "[encoded data removed]",
      "text/plain": [
       "<Figure size 432x288 with 1 Axes>"
      ]
     },
     "metadata": {
      "needs_background": "light"
     },
     "output_type": "display_data"
    }
   ],
   "source": [
    "plt.scatter(lehmanResult, predict_lehman)\n",
    "\n",
    "\n",
    "plt.xlabel(\"Karstolution dripwater\")\n",
    "plt.ylabel(\"predicted dripwater\")\n",
    "plt.title(\"Lehman Cave: Karstolution dripwater vs. predicted dripwater\")\n",
    "plt.ylim(-16, -8)\n",
    "\n",
    "predict_lehman_filt = predict_lehman[predict_lehman < 0]\n",
    "\n",
    "avg1 = lehmanResult.mean()\n",
    "avg2 = predict_lehman_filt.mean()\n",
    "\n",
    "var1 = lehmanResult.var()\n",
    "var2 = predict_lehman_filt.var()\n",
    "\n",
    "\n",
    "print(\"The average machine learning predicted dripwater d18O value is \"+str(avg2)+\" with a variance of \"+str(var2)+\" whereas the Karstolution forward model result average is \"+str(avg1)+\" with a variance of \"+str(var1)+\".\")"
   ]
  },
  {
   "cell_type": "code",
   "execution_count": 37,
   "metadata": {},
   "outputs": [
    {
     "name": "stdout",
     "output_type": "stream",
     "text": [
      "The average machine learning predicted dripwater d18O value is -9.635017845832122 with a variance of 0.18777857724922586 whereas the Karstolution forward model result average is -10.468292415648147 with a variance of 0.007889951515664913.\n"
     ]
    },
    {
     "data": {
      "image/png": "[encoded data removed]",
      "text/plain": [
       "<Figure size 432x288 with 1 Axes>"
      ]
     },
     "metadata": {
      "needs_background": "light"
     },
     "output_type": "display_data"
    }
   ],
   "source": [
    "arraykarst2 = karst_ML.epx18o.to_numpy()\n",
    "MLResult = np.average(arraykarst2.reshape(-1,n), axis=1)\n",
    "\n",
    "\n",
    "plt.scatter(MLResult, predict_ML)\n",
    "\n",
    "\n",
    "plt.xlabel(\"Karstolution dripwater\")\n",
    "plt.ylabel(\"predicted dripwater\")\n",
    "plt.title(\"ML: Karstolution dripwater vs. predicted dripwater\")\n",
    "plt.ylim(-11, -8)\n",
    "\n",
    "predict_ML_filt = predict_ML[predict_ML < 0]\n",
    "\n",
    "avg3 = MLResult.mean()\n",
    "avg4 = predict_ML_filt.mean()\n",
    "\n",
    "var3 = MLResult.var()\n",
    "var4 = predict_ML_filt.var()\n",
    "\n",
    "\n",
    "print(\"The average machine learning predicted dripwater d18O value is \"+str(avg4)+\" with a variance of \"+str(var4)+\" whereas the Karstolution forward model result average is \"+str(avg3)+\" with a variance of \"+str(var3)+\".\")"
   ]
  },
  {
   "cell_type": "code",
   "execution_count": 38,
   "metadata": {},
   "outputs": [
    {
     "name": "stdout",
     "output_type": "stream",
     "text": [
      "The average machine learning predicted dripwater d18O value is -9.624667409655244 with a variance of 0.4380710733644657 whereas the Karstolution forward model result average is -10.647835943564813 with a variance of 0.14550003781702986.\n"
     ]
    },
    {
     "data": {
      "image/png": "[encoded data removed]",
      "text/plain": [
       "<Figure size 432x288 with 1 Axes>"
      ]
     },
     "metadata": {
      "needs_background": "light"
     },
     "output_type": "display_data"
    }
   ],
   "source": [
    "arraykarst3 = karst_COB.epx18o.to_numpy()\n",
    "COBResult = np.average(arraykarst3.reshape(-1,n), axis=1)\n",
    "\n",
    "\n",
    "plt.scatter(COBResult, predict_COB)\n",
    "\n",
    "\n",
    "plt.xlabel(\"Karstolution dripwater\")\n",
    "plt.ylabel(\"predicted dripwater\")\n",
    "plt.title(\"COB: Karstolution dripwater vs. predicted dripwater\")\n",
    "\n",
    "predict_COB_filt = predict_COB[predict_COB < 0]\n",
    "\n",
    "avg5 = COBResult.mean()\n",
    "avg6 = predict_COB_filt.mean()\n",
    "\n",
    "var5 = COBResult.var()\n",
    "var6 = predict_COB_filt.var()\n",
    "\n",
    "\n",
    "print(\"The average machine learning predicted dripwater d18O value is \"+str(avg6)+\" with a variance of \"+str(var6)+\" whereas the Karstolution forward model result average is \"+str(avg5)+\" with a variance of \"+str(var5)+\".\")\n"
   ]
  },
  {
   "cell_type": "code",
   "execution_count": 39,
   "metadata": {},
   "outputs": [
    {
     "name": "stdout",
     "output_type": "stream",
     "text": [
      "The average machine learning predicted dripwater d18O value is -6.924096331889218 with a variance of 0.3976619334943455 whereas the Karstolution forward model result average is -8.749912584455556 with a variance of 0.042772736492648206.\n"
     ]
    },
    {
     "data": {
      "image/png": "[encoded data removed]",
      "text/plain": [
       "<Figure size 432x288 with 1 Axes>"
      ]
     },
     "metadata": {
      "needs_background": "light"
     },
     "output_type": "display_data"
    }
   ],
   "source": [
    "arraykarst4 = karst_CWN.epx18o.to_numpy()\n",
    "CWNResult = np.average(arraykarst4.reshape(-1,n), axis=1)\n",
    "\n",
    "\n",
    "plt.scatter(CWNResult, predict_CWN)\n",
    "\n",
    "\n",
    "plt.xlabel(\"Karstolution dripwater\")\n",
    "plt.ylabel(\"predicted dripwater\")\n",
    "plt.title(\"CWN: Karstolution dripwater vs. predicted dripwater\")\n",
    "\n",
    "predict_CWN_filt = predict_CWN[predict_CWN < 0]\n",
    "\n",
    "avg7 = CWNResult.mean()\n",
    "avg8 = predict_CWN_filt.mean()\n",
    "\n",
    "var7 = CWNResult.var()\n",
    "var8 = predict_CWN_filt.var()\n",
    "\n",
    "\n",
    "print(\"The average machine learning predicted dripwater d18O value is \"+str(avg8)+\" with a variance of \"+str(var8)+\" whereas the Karstolution forward model result average is \"+str(avg7)+\" with a variance of \"+str(var7)+\".\")\n",
    "\n",
    "\n"
   ]
  },
  {
   "cell_type": "code",
   "execution_count": 40,
   "metadata": {},
   "outputs": [
    {
     "name": "stdout",
     "output_type": "stream",
     "text": [
      "The average machine learning predicted dripwater d18O value is -9.471618884161337 with a variance of 0.19217557866054738 whereas the Karstolution forward model result average is -10.528834717537034 with a variance of 0.0052578778205954755.\n"
     ]
    },
    {
     "data": {
      "image/png": "[encoded data removed]",
      "text/plain": [
       "<Figure size 432x288 with 1 Axes>"
      ]
     },
     "metadata": {
      "needs_background": "light"
     },
     "output_type": "display_data"
    }
   ],
   "source": [
    "arraykarst5 = karst_Shasta.epx18o.to_numpy()\n",
    "ShastaResult = np.average(arraykarst5.reshape(-1,n), axis=1)\n",
    "\n",
    "\n",
    "plt.scatter(ShastaResult, predict_Shasta)\n",
    "\n",
    "\n",
    "plt.xlabel(\"Karstolution dripwater\")\n",
    "plt.ylabel(\"predicted dripwater\")\n",
    "plt.title(\"Shasta: Karstolution dripwater vs. predicted dripwater\")\n",
    "\n",
    "predict_Shasta_filt = predict_Shasta[predict_Shasta < 0]\n",
    "\n",
    "avg9 = ShastaResult.mean()\n",
    "avg10 = predict_Shasta_filt.mean()\n",
    "\n",
    "var9 = ShastaResult.var()\n",
    "var10 = predict_Shasta_filt.var()\n",
    "\n",
    "\n",
    "print(\"The average machine learning predicted dripwater d18O value is \"+str(avg10)+\" with a variance of \"+str(var10)+\" whereas the Karstolution forward model result average is \"+str(avg9)+\" with a variance of \"+str(var9)+\".\")\n",
    "\n",
    "\n"
   ]
  },
  {
   "cell_type": "code",
   "execution_count": 41,
   "metadata": {},
   "outputs": [
    {
     "name": "stdout",
     "output_type": "stream",
     "text": [
      "The average machine learning predicted dripwater d18O value is -12.04500817703751 with a variance of 0.39155773616636186 whereas the Karstolution forward model result average is -12.581685422388889 with a variance of 0.1726352873989282.\n"
     ]
    },
    {
     "data": {
      "image/png": "[encoded data removed]",
      "text/plain": [
       "<Figure size 432x288 with 1 Axes>"
      ]
     },
     "metadata": {
      "needs_background": "light"
     },
     "output_type": "display_data"
    }
   ],
   "source": [
    "arraykarst6 = karst_FS.epx18o.to_numpy()\n",
    "FSResult = np.average(arraykarst6.reshape(-1,n), axis=1)\n",
    "\n",
    "\n",
    "plt.scatter(FSResult, predict_FS)\n",
    "\n",
    "\n",
    "plt.xlabel(\"Karstolution dripwater\")\n",
    "plt.ylabel(\"predicted dripwater\")\n",
    "plt.title(\"FS: Karstolution dripwater vs. predicted dripwater\")\n",
    "\n",
    "predict_FS_filt = predict_FS[predict_FS < 0]\n",
    "\n",
    "avg11 = FSResult.mean()\n",
    "avg12 = predict_FS_filt.mean()\n",
    "\n",
    "var11 = FSResult.var()\n",
    "var12 = predict_FS_filt.var()\n",
    "\n",
    "\n",
    "print(\"The average machine learning predicted dripwater d18O value is \"+str(avg12)+\" with a variance of \"+str(var12)+\" whereas the Karstolution forward model result average is \"+str(avg11)+\" with a variance of \"+str(var11)+\".\")\n",
    "\n"
   ]
  },
  {
   "cell_type": "code",
   "execution_count": 25,
   "metadata": {},
   "outputs": [],
   "source": [
    "#I want to test the variance etc. of both the karstolution results and the machine learning results. \n"
   ]
  },
  {
   "cell_type": "code",
   "execution_count": null,
   "metadata": {},
   "outputs": [],
   "source": []
  },
  {
   "cell_type": "markdown",
   "metadata": {},
   "source": [
    "# Conclusions\n",
    "The model scored at 83% on the test dataset. The supervised machine learning model agrees pretty well with the Karstolution forward proxy system model, if the data is filtered for outliers. This is an important step in understanding how the data is predicted and highlights our understanding of what controls dripwater d18O values. "
   ]
  },
  {
   "cell_type": "code",
   "execution_count": null,
   "metadata": {},
   "outputs": [],
   "source": []
  }
 ],
 "metadata": {
  "kernelspec": {
   "display_name": "Python 3",
   "language": "python",
   "name": "python3"
  },
  "language_info": {
   "codemirror_mode": {
    "name": "ipython",
    "version": 3
   },
   "file_extension": ".py",
   "mimetype": "text/x-python",
   "name": "python",
   "nbconvert_exporter": "python",
   "pygments_lexer": "ipython3",
   "version": "3.8.5"
  }
 },
 "nbformat": 4,
 "nbformat_minor": 4
}
